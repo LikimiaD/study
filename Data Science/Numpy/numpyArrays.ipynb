{
 "cells": [
  {
   "cell_type": "code",
   "execution_count": 72,
   "source": [
    "import numpy as np\r\n",
    "np.array([0,1,2,3,4,5,6,7,8,9]) \r\n",
    "# Создайте массив из списка, , состоящего из чисел от 0 до 9, при помощи функции array() из модуля numpy"
   ],
   "outputs": [
    {
     "output_type": "execute_result",
     "data": {
      "text/plain": [
       "array([1, 2, 3, 4, 5, 6, 7, 8, 9])"
      ]
     },
     "metadata": {},
     "execution_count": 72
    }
   ],
   "metadata": {}
  },
  {
   "cell_type": "code",
   "execution_count": 73,
   "source": [
    "np.arange(0,20, 2)\r\n",
    "# Создайте массив , состоящий из нечётных чисел от 1 до 19, при помощи функции arange() из модуля numpy"
   ],
   "outputs": [
    {
     "output_type": "execute_result",
     "data": {
      "text/plain": [
       "array([ 0,  1,  2,  3,  4,  5,  6,  7,  8,  9, 10, 11, 12, 13, 14, 15, 16,\n",
       "       17, 18, 19])"
      ]
     },
     "metadata": {},
     "execution_count": 73
    }
   ],
   "metadata": {}
  },
  {
   "cell_type": "code",
   "execution_count": 74,
   "source": [
    "np.zeros(20)\r\n",
    "# Создайте массив , состоящий из двадцати нулей"
   ],
   "outputs": [
    {
     "output_type": "execute_result",
     "data": {
      "text/plain": [
       "array([0., 0., 0., 0., 0., 0., 0., 0., 0., 0., 0., 0., 0., 0., 0., 0., 0.,\n",
       "       0., 0., 0.])"
      ]
     },
     "metadata": {},
     "execution_count": 74
    }
   ],
   "metadata": {}
  },
  {
   "cell_type": "code",
   "execution_count": 89,
   "source": [
    "x = np.ones(20)\r\n",
    "x.reshape(4, 5)\r\n",
    "# Создайте двумерный массив , состоящий из двадцати единиц, в котором 5 строк и 4 столбца"
   ],
   "outputs": [
    {
     "output_type": "execute_result",
     "data": {
      "text/plain": [
       "array([[1., 1., 1., 1., 1.],\n",
       "       [1., 1., 1., 1., 1.],\n",
       "       [1., 1., 1., 1., 1.],\n",
       "       [1., 1., 1., 1., 1.]])"
      ]
     },
     "metadata": {},
     "execution_count": 89
    }
   ],
   "metadata": {}
  },
  {
   "cell_type": "code",
   "execution_count": 94,
   "source": [
    "np.linspace(3,7,5)\r\n",
    "# Создайте массив , состоящий из пяти равномерно распределённых чисел от 3 до 7"
   ],
   "outputs": [
    {
     "output_type": "execute_result",
     "data": {
      "text/plain": [
       "array([3., 4., 5., 6., 7.])"
      ]
     },
     "metadata": {},
     "execution_count": 94
    }
   ],
   "metadata": {}
  },
  {
   "cell_type": "code",
   "execution_count": 101,
   "source": [
    "np.linspace(3,7,9).reshape(3,3)\r\n",
    "# Создайте двумерный массив , состоящий из 9 равномерно распределённых чисел от 3 до 7"
   ],
   "outputs": [
    {
     "output_type": "execute_result",
     "data": {
      "text/plain": [
       "array([[3. , 3.5, 4. ],\n",
       "       [4.5, 5. , 5.5],\n",
       "       [6. , 6.5, 7. ]])"
      ]
     },
     "metadata": {},
     "execution_count": 101
    }
   ],
   "metadata": {}
  },
  {
   "cell_type": "code",
   "execution_count": 131,
   "source": [
    "x = np.random.randint(1,101, 10)\r\n",
    "print(x)\r\n",
    "max_number = x.max()\r\n",
    "print(max_number)\r\n",
    "#Создайте массив , состоящий из 10 случайных целых чисел из диапазона от 1 до 100, присвойте его максимальное значение переменной max_number и выведите значение этой переменной при помощи функции print()"
   ],
   "outputs": [
    {
     "output_type": "stream",
     "name": "stdout",
     "text": [
      "[50 36 10 82 10 76 37 93 75 42]\n",
      "93\n"
     ]
    }
   ],
   "metadata": {}
  }
 ],
 "metadata": {
  "orig_nbformat": 4,
  "language_info": {
   "name": "python",
   "version": "3.9.6",
   "mimetype": "text/x-python",
   "codemirror_mode": {
    "name": "ipython",
    "version": 3
   },
   "pygments_lexer": "ipython3",
   "nbconvert_exporter": "python",
   "file_extension": ".py"
  },
  "kernelspec": {
   "name": "python3",
   "display_name": "Python 3.9.6 64-bit (windows store)"
  },
  "interpreter": {
   "hash": "5787b22c8eaf2effbb05063a845925c638255d8fdb000df3feb1b3e798753534"
  }
 },
 "nbformat": 4,
 "nbformat_minor": 2
}