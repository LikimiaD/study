{
 "cells": [
  {
   "cell_type": "code",
   "execution_count": 1,
   "source": [
    "import numpy as np"
   ],
   "outputs": [],
   "metadata": {}
  },
  {
   "cell_type": "code",
   "execution_count": 10,
   "source": [
    "x = np.random.randint(1,21,10)\r\n",
    "print(x)\r\n",
    "x1 = np.arange(2,12)\r\n",
    "print(x1)\r\n",
    "print(x + x1)\r\n",
    "#Создайте массив , состоящий из 10 случайных целых чисел из диапазона от 1 до 20, затем создайте массив состоящий из 10 элементов, начиная с 2. Выведите значения этих массивов, а также их сумму, при помощи функции print()"
   ],
   "outputs": [
    {
     "output_type": "stream",
     "name": "stdout",
     "text": [
      "[ 3 10  5  5 14  7  1 15 15  1]\n",
      "[ 2  3  4  5  6  7  8  9 10 11]\n",
      "[ 5 13  9 10 20 14  9 24 25 12]\n"
     ]
    }
   ],
   "metadata": {}
  },
  {
   "cell_type": "code",
   "execution_count": 12,
   "source": [
    "x = np.random.randint(0,10, 7)\r\n",
    "print(x)\r\n",
    "print(x * 3)\r\n",
    "#Создайте массив , состоящий из 7 случайных целых чисел из диапазона от 0 до 9, затем создайте новый массив состоящий из 7 элементов первого массива, увеличенных в 3 раза. Выведите значения этих массивов при помощи функции print()"
   ],
   "outputs": [
    {
     "output_type": "stream",
     "name": "stdout",
     "text": [
      "[6 8 7 5 2 0 8]\n",
      "[18 24 21 15  6  0 24]\n"
     ]
    }
   ],
   "metadata": {}
  },
  {
   "cell_type": "code",
   "execution_count": 25,
   "source": [
    "np.sqrt(np.arange(7, 7+20))\r\n"
   ],
   "outputs": [
    {
     "output_type": "execute_result",
     "data": {
      "text/plain": [
       "array([2.64575131, 2.82842712, 3.        , 3.16227766, 3.31662479,\n",
       "       3.46410162, 3.60555128, 3.74165739, 3.87298335, 4.        ,\n",
       "       4.12310563, 4.24264069, 4.35889894, 4.47213595, 4.58257569,\n",
       "       4.69041576, 4.79583152, 4.89897949, 5.        , 5.09901951])"
      ]
     },
     "metadata": {},
     "execution_count": 25
    }
   ],
   "metadata": {}
  }
 ],
 "metadata": {
  "orig_nbformat": 4,
  "language_info": {
   "name": "python",
   "version": "3.9.6",
   "mimetype": "text/x-python",
   "codemirror_mode": {
    "name": "ipython",
    "version": 3
   },
   "pygments_lexer": "ipython3",
   "nbconvert_exporter": "python",
   "file_extension": ".py"
  },
  "kernelspec": {
   "name": "python3",
   "display_name": "Python 3.9.6 64-bit (windows store)"
  },
  "interpreter": {
   "hash": "5787b22c8eaf2effbb05063a845925c638255d8fdb000df3feb1b3e798753534"
  }
 },
 "nbformat": 4,
 "nbformat_minor": 2
}