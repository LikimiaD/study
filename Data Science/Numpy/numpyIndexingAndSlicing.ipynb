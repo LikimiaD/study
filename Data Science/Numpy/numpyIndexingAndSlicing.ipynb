{
 "cells": [
  {
   "cell_type": "code",
   "execution_count": 2,
   "source": [
    "import numpy as np"
   ],
   "outputs": [],
   "metadata": {}
  },
  {
   "cell_type": "code",
   "execution_count": 6,
   "source": [
    "x = np.random.randint(1,21, 10)\r\n",
    "print(x)\r\n",
    "print(x[1:6])\r\n",
    "#Создайте массив , состоящий из 10 случайных целых чисел из диапазона от 1 до 20, затем создайте массив состоящий из 5 элементов, начиная со 2 по порядку. Выведите значения обоих массивов при помощи функции print()"
   ],
   "outputs": [
    {
     "output_type": "stream",
     "name": "stdout",
     "text": [
      "[ 8 12  7 11  8 14  4  3  5  4]\n",
      "[12  7 11  8 14]\n"
     ]
    }
   ],
   "metadata": {}
  },
  {
   "cell_type": "code",
   "execution_count": 7,
   "source": [
    "x = np.random.randint(0,21,10)\r\n",
    "print(x)\r\n",
    "print(x[2:])\r\n",
    "#Создайте массив , состоящий из 10 случайных целых чисел из диапазона от 0 до 20, затем создайте массив состоящий из элементов, начиная с третьего по порядку до последнего. Выведите значения обоих массивов при помощи функции print()"
   ],
   "outputs": [
    {
     "output_type": "stream",
     "name": "stdout",
     "text": [
      "[12 18  7 19 18 14 15  6 15  1]\n",
      "[ 7 19 18 14 15  6 15  1]\n"
     ]
    }
   ],
   "metadata": {}
  },
  {
   "cell_type": "code",
   "execution_count": 17,
   "source": [
    "x = np.random.randint(3,12, 12).reshape(3,4)\r\n",
    "print(x)\r\n",
    "print(\" \")\r\n",
    "print(x[1:3,1:3])\r\n",
    "#Создайте двумерный массив , состоящий из случайных целых чисел из диапазона от 3 до 11, в котором 4 строки и 3 столбца. Затем создайте массив состоящий из элементов , второй и третьей строки и первого и второго столбца по порядку. Выведите значения обоих массивов при помощи функции print()"
   ],
   "outputs": [
    {
     "output_type": "stream",
     "name": "stdout",
     "text": [
      "[[11  9  6  8]\n",
      " [ 7 11  5 10]\n",
      " [11  4  4  8]]\n",
      " \n",
      "[[11  5]\n",
      " [ 4  4]]\n"
     ]
    }
   ],
   "metadata": {}
  },
  {
   "cell_type": "code",
   "execution_count": 25,
   "source": [
    "x = np.random.randint(0,9, 6*4).reshape(4,6)\r\n",
    "print(x)\r\n",
    "print(x[x > 3])\r\n",
    "#Создайте двумерный массив , состоящий из случайных целых чисел из диапазона от 0 до 9, в котором 4 строки и 6 столбцов. Затем создайте массив состоящий из элементов , которые больше числа 3. Выведите значения обоих массивов при помощи функции print()"
   ],
   "outputs": [
    {
     "output_type": "stream",
     "name": "stdout",
     "text": [
      "[[5 3 4 3 4 6]\n",
      " [3 0 0 7 2 1]\n",
      " [3 4 3 5 4 6]\n",
      " [5 8 2 4 5 7]]\n",
      "[5 4 4 6 7 4 5 4 6 5 8 4 5 7]\n"
     ]
    }
   ],
   "metadata": {}
  }
 ],
 "metadata": {
  "orig_nbformat": 4,
  "language_info": {
   "name": "python",
   "version": "3.9.6",
   "mimetype": "text/x-python",
   "codemirror_mode": {
    "name": "ipython",
    "version": 3
   },
   "pygments_lexer": "ipython3",
   "nbconvert_exporter": "python",
   "file_extension": ".py"
  },
  "kernelspec": {
   "name": "python3",
   "display_name": "Python 3.9.6 64-bit"
  },
  "interpreter": {
   "hash": "10fa5b18b6821efcf1a0ca8a7bbd5168ce7aee3a71c9cf3dc990838fd8f195d9"
  }
 },
 "nbformat": 4,
 "nbformat_minor": 2
}