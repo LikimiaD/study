{
 "cells": [
  {
   "cell_type": "code",
   "execution_count": 1,
   "source": [
    "import numpy as np\r\n",
    "import pandas as pd"
   ],
   "outputs": [],
   "metadata": {}
  },
  {
   "cell_type": "code",
   "execution_count": 3,
   "source": [
    "#Создайте объект Series с данными из списка, состоящего из названий семи цветов радуги\r\n",
    "string_list = [\"Red\",\"Orange\",\"Yellow\",\"Green\",\"Blue\",\"Indigo\",\"Violet\"]\r\n",
    "np_arr = np.arange(1,8)\r\n",
    "pd.Series(string_list, np_arr)"
   ],
   "outputs": [
    {
     "output_type": "execute_result",
     "data": {
      "text/plain": [
       "1       Red\n",
       "2    Orange\n",
       "3    Yellow\n",
       "4     Green\n",
       "5      Blue\n",
       "6    Indigo\n",
       "7    Violet\n",
       "dtype: object"
      ]
     },
     "metadata": {},
     "execution_count": 3
    }
   ],
   "metadata": {}
  },
  {
   "cell_type": "code",
   "execution_count": 12,
   "source": [
    "#Создайте объект Series с данными из списка, состоящего из 6 случайных целых чисел от 3 до 7 включительно  и индексами из списка, состоящего из букв a, b, c, d, e, f\r\n",
    "string_list = ['a','b','c','d','e','f']\r\n",
    "np_int = np.random.randint(3,8,6)\r\n",
    "pd.Series(np_int, string_list)"
   ],
   "outputs": [
    {
     "output_type": "execute_result",
     "data": {
      "text/plain": [
       "a    6\n",
       "b    6\n",
       "c    4\n",
       "d    3\n",
       "e    7\n",
       "f    5\n",
       "dtype: int32"
      ]
     },
     "metadata": {},
     "execution_count": 12
    }
   ],
   "metadata": {}
  }
 ],
 "metadata": {
  "orig_nbformat": 4,
  "language_info": {
   "name": "python",
   "version": "3.9.6",
   "mimetype": "text/x-python",
   "codemirror_mode": {
    "name": "ipython",
    "version": 3
   },
   "pygments_lexer": "ipython3",
   "nbconvert_exporter": "python",
   "file_extension": ".py"
  },
  "kernelspec": {
   "name": "python3",
   "display_name": "Python 3.9.6 64-bit (windows store)"
  },
  "interpreter": {
   "hash": "5787b22c8eaf2effbb05063a845925c638255d8fdb000df3feb1b3e798753534"
  }
 },
 "nbformat": 4,
 "nbformat_minor": 2
}