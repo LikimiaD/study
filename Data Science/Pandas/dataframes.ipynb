{
 "cells": [
  {
   "cell_type": "code",
   "execution_count": 45,
   "source": [
    "import numpy as np\r\n",
    "import pandas as pd"
   ],
   "outputs": [],
   "metadata": {}
  },
  {
   "cell_type": "code",
   "execution_count": 68,
   "source": [
    "#Создайте DataFrame, состоящую из 5 столбцов и 7 строк, в которой будут целые значения возраста от 1 до 100 включительно. Для столбцов используйте названия стран, для индексов строк - буквы латинского алфавита от a до g\r\n",
    "city_list = [\"France\",\"Spain\",\"Italy\",\"Germany\",\"Great Britain\"]\r\n",
    "lines = ['a','b','c','d','e','f','g']\r\n",
    "my_df = pd.DataFrame(0, lines,columns=city_list)\r\n",
    "for x in range(5):\r\n",
    "    for y in range(7):\r\n",
    "        my_df.loc[lines[y], city_list[x]] = np.random.randint(1,101)\r\n",
    "my_df"
   ],
   "outputs": [
    {
     "output_type": "execute_result",
     "data": {
      "text/plain": [
       "   France  Spain  Italy  Germany  Great Britain\n",
       "a      79     38     47        5             37\n",
       "b      48     16     35        8             63\n",
       "c      48     69     27       10             17\n",
       "d      84     73      5       46             89\n",
       "e      83     68     60       44             41\n",
       "f      25     19      9        4             43\n",
       "g      48     93     15       16             19"
      ],
      "text/html": [
       "<div>\n",
       "<style scoped>\n",
       "    .dataframe tbody tr th:only-of-type {\n",
       "        vertical-align: middle;\n",
       "    }\n",
       "\n",
       "    .dataframe tbody tr th {\n",
       "        vertical-align: top;\n",
       "    }\n",
       "\n",
       "    .dataframe thead th {\n",
       "        text-align: right;\n",
       "    }\n",
       "</style>\n",
       "<table border=\"1\" class=\"dataframe\">\n",
       "  <thead>\n",
       "    <tr style=\"text-align: right;\">\n",
       "      <th></th>\n",
       "      <th>France</th>\n",
       "      <th>Spain</th>\n",
       "      <th>Italy</th>\n",
       "      <th>Germany</th>\n",
       "      <th>Great Britain</th>\n",
       "    </tr>\n",
       "  </thead>\n",
       "  <tbody>\n",
       "    <tr>\n",
       "      <th>a</th>\n",
       "      <td>79</td>\n",
       "      <td>38</td>\n",
       "      <td>47</td>\n",
       "      <td>5</td>\n",
       "      <td>37</td>\n",
       "    </tr>\n",
       "    <tr>\n",
       "      <th>b</th>\n",
       "      <td>48</td>\n",
       "      <td>16</td>\n",
       "      <td>35</td>\n",
       "      <td>8</td>\n",
       "      <td>63</td>\n",
       "    </tr>\n",
       "    <tr>\n",
       "      <th>c</th>\n",
       "      <td>48</td>\n",
       "      <td>69</td>\n",
       "      <td>27</td>\n",
       "      <td>10</td>\n",
       "      <td>17</td>\n",
       "    </tr>\n",
       "    <tr>\n",
       "      <th>d</th>\n",
       "      <td>84</td>\n",
       "      <td>73</td>\n",
       "      <td>5</td>\n",
       "      <td>46</td>\n",
       "      <td>89</td>\n",
       "    </tr>\n",
       "    <tr>\n",
       "      <th>e</th>\n",
       "      <td>83</td>\n",
       "      <td>68</td>\n",
       "      <td>60</td>\n",
       "      <td>44</td>\n",
       "      <td>41</td>\n",
       "    </tr>\n",
       "    <tr>\n",
       "      <th>f</th>\n",
       "      <td>25</td>\n",
       "      <td>19</td>\n",
       "      <td>9</td>\n",
       "      <td>4</td>\n",
       "      <td>43</td>\n",
       "    </tr>\n",
       "    <tr>\n",
       "      <th>g</th>\n",
       "      <td>48</td>\n",
       "      <td>93</td>\n",
       "      <td>15</td>\n",
       "      <td>16</td>\n",
       "      <td>19</td>\n",
       "    </tr>\n",
       "  </tbody>\n",
       "</table>\n",
       "</div>"
      ]
     },
     "metadata": {},
     "execution_count": 68
    }
   ],
   "metadata": {}
  }
 ],
 "metadata": {
  "orig_nbformat": 4,
  "language_info": {
   "name": "python",
   "version": "3.9.6",
   "mimetype": "text/x-python",
   "codemirror_mode": {
    "name": "ipython",
    "version": 3
   },
   "pygments_lexer": "ipython3",
   "nbconvert_exporter": "python",
   "file_extension": ".py"
  },
  "kernelspec": {
   "name": "python3",
   "display_name": "Python 3.9.6 64-bit (windows store)"
  },
  "interpreter": {
   "hash": "5787b22c8eaf2effbb05063a845925c638255d8fdb000df3feb1b3e798753534"
  }
 },
 "nbformat": 4,
 "nbformat_minor": 2
}