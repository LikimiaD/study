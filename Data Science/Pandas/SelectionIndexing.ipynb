{
 "cells": [
  {
   "cell_type": "code",
   "execution_count": 120,
   "source": [
    "\r\n",
    "import numpy as np\r\n",
    "import pandas as pd\r\n",
    "columns_ = [\"A\", \"B\", \"C\", \"D\"]\r\n",
    "int_data_ = [\"10\", \"20\", \"30\", \"40\", \"50\"]\r\n",
    "\r\n",
    "x = pd.DataFrame(index= int_data_, columns = columns_).applymap(lambda x: np.random.randint(1,101))\r\n",
    "print(x[\"A\"][x[\"A\"] < 30])\r\n",
    "#Создайте DataFrame, следуя инструкциям. Выберите из неё все строки, в которых значения в столбце A меньше 30\r\n"
   ],
   "outputs": [
    {
     "output_type": "stream",
     "name": "stdout",
     "text": [
      "20    23\n",
      "40    18\n",
      "50    23\n",
      "Name: A, dtype: int64\n"
     ]
    }
   ],
   "metadata": {}
  },
  {
   "cell_type": "code",
   "execution_count": 136,
   "source": [
    "import numpy as np\r\n",
    "import pandas as pd\r\n",
    "columns_ = [\"A\", \"B\", \"C\", \"D\"]\r\n",
    "int_data_ = [\"10\", \"20\", \"30\", \"40\", \"50\"]\r\n",
    "\r\n",
    "x = pd.DataFrame(index= int_data_, columns = columns_).applymap(lambda x: np.random.randint(1,101))\r\n",
    "print(x)\r\n",
    "print(x[[\"A\",\"B\"]][(x[\"A\"] < 50) | (x[\"B\"] < 40)])\r\n",
    "#Создайте DataFrame, следуя инструкциям. Выберите из неё все строки, в которых значения в столбце A меньше 50 или значения в столбце B меньше 40"
   ],
   "outputs": [
    {
     "output_type": "stream",
     "name": "stdout",
     "text": [
      "     A   B   C   D\n",
      "10  11  86  55  44\n",
      "20  14  34  80   5\n",
      "30  75  28  46  66\n",
      "40  92  32   9  49\n",
      "50  62  63  46  47\n",
      "     A   B\n",
      "10  11  86\n",
      "20  14  34\n",
      "30  75  28\n",
      "40  92  32\n"
     ]
    }
   ],
   "metadata": {}
  },
  {
   "cell_type": "code",
   "execution_count": 139,
   "source": [
    "import numpy as np\r\n",
    "import pandas as pd\r\n",
    "columns_ = [\"A\", \"B\", \"C\", \"D\"]\r\n",
    "int_data_ = [\"10\", \"20\", \"30\", \"40\", \"50\"]\r\n",
    "\r\n",
    "x = pd.DataFrame(index= int_data_, columns = columns_).applymap(lambda x: np.random.randint(1,101))\r\n",
    "print(x)\r\n",
    "print(x[[\"A\",\"B\"]][(x[\"C\"] > 20) & (x[\"D\"] < 70)])\r\n",
    "#Создайте DataFrame, следуя инструкциям. Выберите из неё значения столбцов A и B во всех строках, в которых значения в столбце C больше 20 и значения в столбце D меньше 70"
   ],
   "outputs": [
    {
     "output_type": "stream",
     "name": "stdout",
     "text": [
      "     A   B   C   D\n",
      "10  37   5  54  47\n",
      "20  11   5  14  23\n",
      "30  71   6  15  77\n",
      "40  51  91  53  63\n",
      "50  54  15  12  51\n",
      "     A   B\n",
      "10  37   5\n",
      "40  51  91\n"
     ]
    }
   ],
   "metadata": {}
  }
 ],
 "metadata": {
  "orig_nbformat": 4,
  "language_info": {
   "name": "python",
   "version": "3.9.6",
   "mimetype": "text/x-python",
   "codemirror_mode": {
    "name": "ipython",
    "version": 3
   },
   "pygments_lexer": "ipython3",
   "nbconvert_exporter": "python",
   "file_extension": ".py"
  },
  "kernelspec": {
   "name": "python3",
   "display_name": "Python 3.9.6 64-bit"
  },
  "interpreter": {
   "hash": "10fa5b18b6821efcf1a0ca8a7bbd5168ce7aee3a71c9cf3dc990838fd8f195d9"
  }
 },
 "nbformat": 4,
 "nbformat_minor": 2
}